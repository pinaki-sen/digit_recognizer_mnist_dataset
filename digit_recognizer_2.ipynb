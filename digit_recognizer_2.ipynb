{
 "cells": [
  {
   "cell_type": "code",
   "execution_count": 14,
   "metadata": {},
   "outputs": [],
   "source": [
    "import numpy as np\n",
    "import pandas as pd\n",
    "from keras.layers import Dense\n",
    "from keras.models import Sequential\n",
    "from keras.layers import Conv2D\n",
    "from keras.layers import MaxPooling2D\n",
    "from keras.layers import Dropout\n",
    "from keras.layers import Flatten"
   ]
  },
  {
   "cell_type": "code",
   "execution_count": 2,
   "metadata": {},
   "outputs": [],
   "source": [
    "df = pd.read_csv('train_digit.csv')\n",
    "x = df.drop('label', axis=1)\n",
    "y = df['label']"
   ]
  },
  {
   "cell_type": "code",
   "execution_count": 3,
   "metadata": {},
   "outputs": [
    {
     "data": {
      "text/plain": [
       "((42000, 784), (42000,))"
      ]
     },
     "execution_count": 3,
     "metadata": {},
     "output_type": "execute_result"
    }
   ],
   "source": [
    "x.shape, y.shape"
   ]
  },
  {
   "cell_type": "code",
   "execution_count": 4,
   "metadata": {},
   "outputs": [],
   "source": [
    "final_y = []\n",
    "for i in y:\n",
    "    a = [0]*10\n",
    "    a[i] = 1\n",
    "    final_y.append(a)\n",
    "final_y = np.array(final_y)"
   ]
  },
  {
   "cell_type": "code",
   "execution_count": 5,
   "metadata": {},
   "outputs": [
    {
     "name": "stdout",
     "output_type": "stream",
     "text": [
      "784\n"
     ]
    }
   ],
   "source": [
    "n_cols = x.shape[1]\n",
    "print(n_cols)"
   ]
  },
  {
   "cell_type": "code",
   "execution_count": 16,
   "metadata": {},
   "outputs": [],
   "source": [
    "model = Sequential()\n",
    "model.add(Dense(100, activation='relu', input_shape = (n_cols,)))\n",
    "model.add(Dense(100, activation='relu'))\n",
    "\n",
    "model.add(Dropout(0.25))\n",
    "\n",
    "\n",
    "\n",
    "model.add(Dense(128, activation='relu'))\n",
    "\n",
    "model.add(Dropout(0.5))\n",
    "\n",
    "model.add(Dense(10, activation='softmax'))"
   ]
  },
  {
   "cell_type": "code",
   "execution_count": 17,
   "metadata": {},
   "outputs": [],
   "source": [
    "model.compile(optimizer='adam', loss='categorical_crossentropy', metrics=['accuracy'])"
   ]
  },
  {
   "cell_type": "code",
   "execution_count": 18,
   "metadata": {},
   "outputs": [
    {
     "name": "stdout",
     "output_type": "stream",
     "text": [
      "Model: \"sequential_5\"\n",
      "_________________________________________________________________\n",
      "Layer (type)                 Output Shape              Param #   \n",
      "=================================================================\n",
      "dense_6 (Dense)              (None, 100)               78500     \n",
      "_________________________________________________________________\n",
      "dense_7 (Dense)              (None, 100)               10100     \n",
      "_________________________________________________________________\n",
      "dropout_2 (Dropout)          (None, 100)               0         \n",
      "_________________________________________________________________\n",
      "dense_8 (Dense)              (None, 128)               12928     \n",
      "_________________________________________________________________\n",
      "dropout_3 (Dropout)          (None, 128)               0         \n",
      "_________________________________________________________________\n",
      "dense_9 (Dense)              (None, 10)                1290      \n",
      "=================================================================\n",
      "Total params: 102,818\n",
      "Trainable params: 102,818\n",
      "Non-trainable params: 0\n",
      "_________________________________________________________________\n"
     ]
    }
   ],
   "source": [
    "model.summary()"
   ]
  },
  {
   "cell_type": "code",
   "execution_count": 19,
   "metadata": {},
   "outputs": [],
   "source": [
    "from keras.callbacks import EarlyStopping\n",
    "early_stopping_monitor = EarlyStopping(patience = 3)"
   ]
  },
  {
   "cell_type": "code",
   "execution_count": 20,
   "metadata": {},
   "outputs": [
    {
     "name": "stdout",
     "output_type": "stream",
     "text": [
      "Train on 29399 samples, validate on 12601 samples\n",
      "Epoch 1/20\n",
      "29399/29399 [==============================] - 6s 217us/step - loss: 3.2795 - accuracy: 0.5375 - val_loss: 0.6436 - val_accuracy: 0.8404\n",
      "Epoch 2/20\n",
      "29399/29399 [==============================] - 6s 208us/step - loss: 0.6124 - accuracy: 0.8501 - val_loss: 0.3927 - val_accuracy: 0.8951\n",
      "Epoch 3/20\n",
      "29399/29399 [==============================] - 6s 209us/step - loss: 0.4599 - accuracy: 0.8868 - val_loss: 0.3809 - val_accuracy: 0.8993\n",
      "Epoch 4/20\n",
      "29399/29399 [==============================] - 6s 206us/step - loss: 0.3777 - accuracy: 0.9076 - val_loss: 0.3097 - val_accuracy: 0.9164\n",
      "Epoch 5/20\n",
      "29399/29399 [==============================] - 6s 206us/step - loss: 0.3399 - accuracy: 0.9148 - val_loss: 0.3139 - val_accuracy: 0.9198\n",
      "Epoch 6/20\n",
      "29399/29399 [==============================] - 6s 211us/step - loss: 0.3113 - accuracy: 0.9213 - val_loss: 0.2720 - val_accuracy: 0.9286\n",
      "Epoch 7/20\n",
      "29399/29399 [==============================] - 6s 213us/step - loss: 0.3032 - accuracy: 0.9228 - val_loss: 0.2812 - val_accuracy: 0.9243\n",
      "Epoch 8/20\n",
      "29399/29399 [==============================] - 6s 210us/step - loss: 0.2772 - accuracy: 0.9310 - val_loss: 0.2803 - val_accuracy: 0.9261\n",
      "Epoch 9/20\n",
      "29399/29399 [==============================] - 6s 220us/step - loss: 0.2646 - accuracy: 0.9326 - val_loss: 0.2655 - val_accuracy: 0.9338\n",
      "Epoch 10/20\n",
      "29399/29399 [==============================] - 7s 228us/step - loss: 0.2533 - accuracy: 0.9350 - val_loss: 0.2930 - val_accuracy: 0.9227\n",
      "Epoch 11/20\n",
      "29399/29399 [==============================] - 6s 213us/step - loss: 0.2424 - accuracy: 0.9370 - val_loss: 0.2656 - val_accuracy: 0.9392\n",
      "Epoch 12/20\n",
      "29399/29399 [==============================] - 6s 211us/step - loss: 0.2327 - accuracy: 0.9408 - val_loss: 0.2765 - val_accuracy: 0.9353\n",
      "Epoch 13/20\n",
      "29399/29399 [==============================] - 7s 224us/step - loss: 0.2308 - accuracy: 0.9408 - val_loss: 0.2539 - val_accuracy: 0.9386\n",
      "Epoch 14/20\n",
      "29399/29399 [==============================] - 7s 228us/step - loss: 0.2181 - accuracy: 0.9438 - val_loss: 0.2652 - val_accuracy: 0.9397\n",
      "Epoch 15/20\n",
      "29399/29399 [==============================] - 6s 207us/step - loss: 0.2080 - accuracy: 0.9468 - val_loss: 0.2868 - val_accuracy: 0.9360\n",
      "Epoch 16/20\n",
      "29399/29399 [==============================] - 6s 211us/step - loss: 0.2088 - accuracy: 0.9472 - val_loss: 0.3453 - val_accuracy: 0.9364\n",
      "Epoch 17/20\n",
      "29399/29399 [==============================] - 6s 210us/step - loss: 0.2064 - accuracy: 0.9457 - val_loss: 0.2729 - val_accuracy: 0.9369\n",
      "Epoch 18/20\n",
      "29399/29399 [==============================] - 6s 209us/step - loss: 0.2002 - accuracy: 0.9482 - val_loss: 0.2714 - val_accuracy: 0.9382\n",
      "Epoch 19/20\n",
      "29399/29399 [==============================] - 6s 212us/step - loss: 0.1952 - accuracy: 0.9495 - val_loss: 0.2767 - val_accuracy: 0.9422\n",
      "Epoch 20/20\n",
      "29399/29399 [==============================] - 6s 212us/step - loss: 0.1920 - accuracy: 0.9494 - val_loss: 0.2751 - val_accuracy: 0.9437\n"
     ]
    },
    {
     "data": {
      "text/plain": [
       "<keras.callbacks.callbacks.History at 0x7f4d327f3588>"
      ]
     },
     "execution_count": 20,
     "metadata": {},
     "output_type": "execute_result"
    }
   ],
   "source": [
    "model.fit(x, final_y, validation_split=0.3, epochs=20)"
   ]
  },
  {
   "cell_type": "code",
   "execution_count": 21,
   "metadata": {},
   "outputs": [],
   "source": [
    "df_test = pd.read_csv('test_digit.csv')"
   ]
  },
  {
   "cell_type": "code",
   "execution_count": 22,
   "metadata": {},
   "outputs": [],
   "source": [
    "x_test = df_test.values"
   ]
  },
  {
   "cell_type": "code",
   "execution_count": 23,
   "metadata": {},
   "outputs": [
    {
     "data": {
      "text/plain": [
       "(784,)"
      ]
     },
     "execution_count": 23,
     "metadata": {},
     "output_type": "execute_result"
    }
   ],
   "source": [
    "np.array(x_test[1]).shape"
   ]
  },
  {
   "cell_type": "code",
   "execution_count": 24,
   "metadata": {},
   "outputs": [],
   "source": [
    "df_prediction = model.predict(df_test)"
   ]
  },
  {
   "cell_type": "code",
   "execution_count": 25,
   "metadata": {},
   "outputs": [
    {
     "data": {
      "text/plain": [
       "(28000, 10)"
      ]
     },
     "execution_count": 25,
     "metadata": {},
     "output_type": "execute_result"
    }
   ],
   "source": [
    "df_prediction.shape"
   ]
  },
  {
   "cell_type": "code",
   "execution_count": 26,
   "metadata": {},
   "outputs": [],
   "source": [
    "ans = []\n",
    "for i in range(28000):\n",
    "    a = max(df_prediction[i])\n",
    "    ans.append(np.where(df_prediction[i] == a))"
   ]
  },
  {
   "cell_type": "code",
   "execution_count": 27,
   "metadata": {},
   "outputs": [],
   "source": [
    "ans = np.array(ans)"
   ]
  },
  {
   "cell_type": "code",
   "execution_count": 28,
   "metadata": {},
   "outputs": [],
   "source": [
    "final_ans = []\n",
    "for i in range(28000):\n",
    "    final_ans.append(ans[i][0][0])"
   ]
  },
  {
   "cell_type": "code",
   "execution_count": 29,
   "metadata": {},
   "outputs": [],
   "source": [
    "final_ans = np.array(final_ans)"
   ]
  },
  {
   "cell_type": "code",
   "execution_count": 30,
   "metadata": {},
   "outputs": [
    {
     "data": {
      "text/plain": [
       "array([2, 0, 9, ..., 3, 9, 2])"
      ]
     },
     "execution_count": 30,
     "metadata": {},
     "output_type": "execute_result"
    }
   ],
   "source": [
    "final_ans"
   ]
  },
  {
   "cell_type": "code",
   "execution_count": 31,
   "metadata": {},
   "outputs": [],
   "source": [
    "df_pred = pd.DataFrame({'ImageId': df_test.index+1, 'Label': final_ans})\n",
    "df_pred.to_csv('submission_2_digit.csv', index=False)"
   ]
  },
  {
   "cell_type": "code",
   "execution_count": null,
   "metadata": {},
   "outputs": [],
   "source": []
  }
 ],
 "metadata": {
  "kernelspec": {
   "display_name": "Python 3",
   "language": "python",
   "name": "python3"
  },
  "language_info": {
   "codemirror_mode": {
    "name": "ipython",
    "version": 3
   },
   "file_extension": ".py",
   "mimetype": "text/x-python",
   "name": "python",
   "nbconvert_exporter": "python",
   "pygments_lexer": "ipython3",
   "version": "3.7.6"
  }
 },
 "nbformat": 4,
 "nbformat_minor": 2
}
